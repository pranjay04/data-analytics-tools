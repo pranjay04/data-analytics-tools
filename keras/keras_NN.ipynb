{
 "cells": [
  {
   "cell_type": "markdown",
   "metadata": {},
   "source": [
    "Introduction to Neural Networks using keras<br>\n",
    "In youtube tutorial <a href=\"https://www.youtube.com/playlist?list=PLZbbT5o_s2xrwRnXk_yCPtnqqo4_u2YGL\">Keras - Python Deep Learning Neural Network API</a> on channel deeplizard"
   ]
  },
  {
   "cell_type": "code",
   "execution_count": 1,
   "metadata": {},
   "outputs": [],
   "source": [
    "import numpy as np\n",
    "from random import randint\n",
    "from sklearn.preprocessing import MinMaxScaler"
   ]
  },
  {
   "cell_type": "code",
   "execution_count": 2,
   "metadata": {},
   "outputs": [],
   "source": [
    "train_labels = []\n",
    "train_samples = []"
   ]
  },
  {
   "cell_type": "markdown",
   "metadata": {},
   "source": [
    "Creating Example data for demonstration, in real practice the actual data is used\n",
    "\n",
    "<li>An experimental drug was tested on indivisuals from ages 13 to 100.</li>\n",
    "<li>The trial has 2100 participants. Half were under 65 years old, half were over 65 year old.</li>\n",
    "<li>95% of patients 65 or older experienced side effects.</li>\n",
    "<li>95% of patients under 65 experienced no side effects.</li>"
   ]
  },
  {
   "cell_type": "code",
   "execution_count": 3,
   "metadata": {},
   "outputs": [],
   "source": [
    "for i in range(1000):\n",
    "    random_younger = randint(13, 64)\n",
    "    train_samples.append(random_younger)\n",
    "    train_labels.append(0)\n",
    "    \n",
    "    random_older = randint(65, 100)\n",
    "    train_samples.append(random_older)\n",
    "    train_labels.append(1)\n",
    "    \n",
    "for i in range(50):\n",
    "    random_younger = randint(13, 64)\n",
    "    train_samples.append(random_younger)\n",
    "    train_labels.append(1)\n",
    "    \n",
    "    random_older = randint(65, 100)\n",
    "    train_samples.append(random_older)\n",
    "    train_labels.append(0)"
   ]
  },
  {
   "cell_type": "code",
   "execution_count": 4,
   "metadata": {},
   "outputs": [
    {
     "data": {
      "text/plain": [
       "[86, 14, 95, 21, 79, 33, 95, 41, 72, 33, 99, 24, 98, 19, 81, 42, 89, 32, 72]"
      ]
     },
     "execution_count": 4,
     "metadata": {},
     "output_type": "execute_result"
    }
   ],
   "source": [
    "train_samples[1:20]"
   ]
  },
  {
   "cell_type": "code",
   "execution_count": 5,
   "metadata": {},
   "outputs": [
    {
     "data": {
      "text/plain": [
       "[1, 0, 1, 0, 1, 0, 1, 0, 1, 0, 1, 0, 1, 0, 1, 0, 1, 0, 1]"
      ]
     },
     "execution_count": 5,
     "metadata": {},
     "output_type": "execute_result"
    }
   ],
   "source": [
    "train_labels[1:20]"
   ]
  },
  {
   "cell_type": "code",
   "execution_count": 6,
   "metadata": {},
   "outputs": [],
   "source": [
    "# changing sample data and labels list to numpy array\n",
    "train_samples = np.array(train_samples)\n",
    "train_labels = np.array(train_labels)"
   ]
  },
  {
   "cell_type": "code",
   "execution_count": 7,
   "metadata": {},
   "outputs": [
    {
     "name": "stderr",
     "output_type": "stream",
     "text": [
      "C:\\Users\\xvcb\\Anaconda3\\lib\\site-packages\\sklearn\\utils\\validation.py:595: DataConversionWarning: Data with input dtype int32 was converted to float64 by MinMaxScaler.\n",
      "  warnings.warn(msg, DataConversionWarning)\n"
     ]
    }
   ],
   "source": [
    "scaler = MinMaxScaler(feature_range=(0,1))\n",
    "scaled_train_samples = scaler.fit_transform(train_samples.reshape(-1,1))"
   ]
  },
  {
   "cell_type": "code",
   "execution_count": 8,
   "metadata": {},
   "outputs": [
    {
     "data": {
      "text/plain": [
       "array([[0.        ],\n",
       "       [0.83908046],\n",
       "       [0.01149425],\n",
       "       ...,\n",
       "       [0.77011494],\n",
       "       [0.12643678],\n",
       "       [0.59770115]])"
      ]
     },
     "execution_count": 8,
     "metadata": {},
     "output_type": "execute_result"
    }
   ],
   "source": [
    "scaled_train_samples"
   ]
  },
  {
   "cell_type": "code",
   "execution_count": 9,
   "metadata": {},
   "outputs": [
    {
     "name": "stderr",
     "output_type": "stream",
     "text": [
      "Using Theano backend.\n"
     ]
    }
   ],
   "source": [
    "import keras\n",
    "from keras import backend as k\n",
    "from keras.models import Sequential\n",
    "from keras.layers import Activation\n",
    "from keras.layers.core import Dense\n",
    "from keras.optimizers import Adam\n",
    "from keras.metrics import categorical_crossentropy"
   ]
  },
  {
   "cell_type": "code",
   "execution_count": 10,
   "metadata": {},
   "outputs": [
    {
     "data": {
      "text/plain": [
       "'theano'"
      ]
     },
     "execution_count": 10,
     "metadata": {},
     "output_type": "execute_result"
    }
   ],
   "source": [
    "k.backend()"
   ]
  },
  {
   "cell_type": "code",
   "execution_count": 11,
   "metadata": {},
   "outputs": [],
   "source": [
    " model = Sequential([\n",
    "     Dense(16, input_shape=(1,), activation='relu'),\n",
    "     Dense(32, activation='relu'),\n",
    "     Dense(2, activation='softmax')\n",
    " ])"
   ]
  },
  {
   "cell_type": "code",
   "execution_count": 12,
   "metadata": {},
   "outputs": [
    {
     "name": "stdout",
     "output_type": "stream",
     "text": [
      "_________________________________________________________________\n",
      "Layer (type)                 Output Shape              Param #   \n",
      "=================================================================\n",
      "dense_1 (Dense)              (None, 16)                32        \n",
      "_________________________________________________________________\n",
      "dense_2 (Dense)              (None, 32)                544       \n",
      "_________________________________________________________________\n",
      "dense_3 (Dense)              (None, 2)                 66        \n",
      "=================================================================\n",
      "Total params: 642\n",
      "Trainable params: 642\n",
      "Non-trainable params: 0\n",
      "_________________________________________________________________\n"
     ]
    }
   ],
   "source": [
    "model.summary()"
   ]
  },
  {
   "cell_type": "code",
   "execution_count": 13,
   "metadata": {},
   "outputs": [],
   "source": [
    "model.compile(Adam(lr=0.001), loss='sparse_categorical_crossentropy', metrics=['accuracy'])"
   ]
  },
  {
   "cell_type": "code",
   "execution_count": 14,
   "metadata": {},
   "outputs": [
    {
     "name": "stdout",
     "output_type": "stream",
     "text": [
      "Train on 1890 samples, validate on 210 samples\n",
      "Epoch 1/20\n",
      " - 0s - loss: 0.4398 - acc: 0.8413 - val_loss: 1.1826 - val_acc: 0.5333\n",
      "Epoch 2/20\n"
     ]
    },
    {
     "name": "stderr",
     "output_type": "stream",
     "text": [
      "C:\\Users\\xvcb\\Anaconda3\\lib\\site-packages\\theano\\tensor\\subtensor.py:2339: FutureWarning: Using a non-tuple sequence for multidimensional indexing is deprecated; use `arr[tuple(seq)]` instead of `arr[seq]`. In the future this will be interpreted as an array index, `arr[np.array(seq)]`, which will result either in an error or a different result.\n",
      "  out[0][inputs[2:]] = inputs[1]\n"
     ]
    },
    {
     "name": "stdout",
     "output_type": "stream",
     "text": [
      " - 0s - loss: 0.1154 - acc: 0.9825 - val_loss: 2.0048 - val_acc: 0.5333\n",
      "Epoch 3/20\n",
      " - 0s - loss: 0.0713 - acc: 0.9857 - val_loss: 2.5505 - val_acc: 0.5238\n",
      "Epoch 4/20\n",
      " - 0s - loss: 0.0564 - acc: 0.9884 - val_loss: 3.0117 - val_acc: 0.5333\n",
      "Epoch 5/20\n",
      " - 0s - loss: 0.0480 - acc: 0.9905 - val_loss: 3.3861 - val_acc: 0.5238\n",
      "Epoch 6/20\n",
      " - 0s - loss: 0.0445 - acc: 0.9915 - val_loss: 3.7144 - val_acc: 0.5286\n",
      "Epoch 7/20\n",
      " - 0s - loss: 0.0380 - acc: 0.9921 - val_loss: 4.0153 - val_acc: 0.5286\n",
      "Epoch 8/20\n",
      " - 0s - loss: 0.0346 - acc: 0.9921 - val_loss: 4.2465 - val_acc: 0.5238\n",
      "Epoch 9/20\n",
      " - 0s - loss: 0.0323 - acc: 0.9926 - val_loss: 4.4354 - val_acc: 0.5286\n",
      "Epoch 10/20\n",
      " - 0s - loss: 0.0311 - acc: 0.9915 - val_loss: 4.5844 - val_acc: 0.5286\n",
      "Epoch 11/20\n",
      " - 0s - loss: 0.0302 - acc: 0.9910 - val_loss: 4.6994 - val_acc: 0.5238\n",
      "Epoch 12/20\n",
      " - 0s - loss: 0.0272 - acc: 0.9915 - val_loss: 4.7638 - val_acc: 0.5333\n",
      "Epoch 13/20\n",
      " - 0s - loss: 0.0256 - acc: 0.9931 - val_loss: 4.9432 - val_acc: 0.5286\n",
      "Epoch 14/20\n",
      " - 0s - loss: 0.0271 - acc: 0.9915 - val_loss: 5.0142 - val_acc: 0.5286\n",
      "Epoch 15/20\n",
      " - 0s - loss: 0.0249 - acc: 0.9915 - val_loss: 5.1545 - val_acc: 0.5333\n",
      "Epoch 16/20\n",
      " - 0s - loss: 0.0230 - acc: 0.9921 - val_loss: 5.1844 - val_acc: 0.5238\n",
      "Epoch 17/20\n",
      " - 0s - loss: 0.0216 - acc: 0.9958 - val_loss: 5.2705 - val_acc: 0.5238\n",
      "Epoch 18/20\n",
      " - 0s - loss: 0.0250 - acc: 0.9931 - val_loss: 5.4649 - val_acc: 0.5286\n",
      "Epoch 19/20\n",
      " - 0s - loss: 0.0217 - acc: 0.9952 - val_loss: 5.4321 - val_acc: 0.5286\n",
      "Epoch 20/20\n",
      " - 0s - loss: 0.0191 - acc: 0.9963 - val_loss: 5.5666 - val_acc: 0.5333\n"
     ]
    },
    {
     "data": {
      "text/plain": [
       "<keras.callbacks.History at 0xcb20a58>"
      ]
     },
     "execution_count": 14,
     "metadata": {},
     "output_type": "execute_result"
    }
   ],
   "source": [
    "model.fit(scaled_train_samples, train_labels, validation_split=0.1, batch_size=10, epochs = 20, shuffle=True, verbose=2)"
   ]
  },
  {
   "cell_type": "markdown",
   "metadata": {},
   "source": [
    "### Preprocess test data"
   ]
  },
  {
   "cell_type": "code",
   "execution_count": 15,
   "metadata": {},
   "outputs": [],
   "source": [
    "test_samples = []\n",
    "test_labels = []"
   ]
  },
  {
   "cell_type": "code",
   "execution_count": 16,
   "metadata": {},
   "outputs": [],
   "source": [
    "for i in range(200):\n",
    "    random_younger = randint(13, 64)\n",
    "    test_samples.append(random_younger)\n",
    "    test_labels.append(0)\n",
    "    \n",
    "    random_older = randint(65, 100)\n",
    "    test_samples.append(random_older)\n",
    "    test_labels.append(1)\n",
    "    \n",
    "for i in range(10):\n",
    "    random_younger = randint(13, 64)\n",
    "    test_samples.append(random_younger)\n",
    "    test_labels.append(1)\n",
    "    \n",
    "    random_older = randint(65, 100)\n",
    "    test_samples.append(random_older)\n",
    "    test_labels.append(0)"
   ]
  },
  {
   "cell_type": "code",
   "execution_count": 17,
   "metadata": {},
   "outputs": [],
   "source": [
    "test_labels = np.array(test_labels)\n",
    "test_samples = np.array(test_samples)"
   ]
  },
  {
   "cell_type": "code",
   "execution_count": 18,
   "metadata": {},
   "outputs": [
    {
     "name": "stderr",
     "output_type": "stream",
     "text": [
      "C:\\Users\\xvcb\\Anaconda3\\lib\\site-packages\\sklearn\\utils\\validation.py:595: DataConversionWarning: Data with input dtype int32 was converted to float64 by MinMaxScaler.\n",
      "  warnings.warn(msg, DataConversionWarning)\n"
     ]
    }
   ],
   "source": [
    "scaler = MinMaxScaler(feature_range=(0,1))\n",
    "scaled_test_samples = scaler.fit_transform(test_samples.reshape(-1,1))"
   ]
  },
  {
   "cell_type": "code",
   "execution_count": 19,
   "metadata": {},
   "outputs": [],
   "source": [
    "predictions = model.predict(scaled_test_samples, batch_size=10, verbose=0)"
   ]
  },
  {
   "cell_type": "code",
   "execution_count": 20,
   "metadata": {},
   "outputs": [
    {
     "name": "stdout",
     "output_type": "stream",
     "text": [
      "[0.71152234 0.28847766]\n",
      "[7.3134261e-06 9.9999267e-01]\n",
      "[9.9999881e-01 1.1818505e-06]\n",
      "[1.6471042e-06 9.9999833e-01]\n",
      "[1.0000000e+00 7.0750095e-13]\n",
      "[0.10129865 0.89870137]\n",
      "[1.0000000e+00 6.8577956e-12]\n",
      "[0.00512467 0.9948753 ]\n",
      "[9.9998605e-01 1.3946589e-05]\n",
      "[2.0577889e-07 9.9999982e-01]\n",
      "[1.0000000e+00 5.7860917e-11]\n",
      "[1.0405065e-05 9.9998957e-01]\n",
      "[9.9915397e-01 8.4600924e-04]\n",
      "[2.8735644e-06 9.9999714e-01]\n",
      "[1.0000000e+00 7.0750095e-13]\n",
      "[7.5244920e-08 9.9999994e-01]\n",
      "[1.0000000e+00 1.7432262e-13]\n",
      "[2.1012157e-04 9.9978989e-01]\n",
      "[9.9989176e-01 1.0821856e-04]\n",
      "[1.6471042e-06 9.9999833e-01]\n",
      "[1.0000000e+00 3.5118758e-13]\n",
      "[9.6612303e-07 9.9999905e-01]\n",
      "[1.0000000e+00 4.5225876e-12]\n",
      "[0.00183823 0.9981618 ]\n",
      "[0.99341935 0.00658064]\n",
      "[4.3761668e-07 9.9999958e-01]\n",
      "[1.0000000e+00 2.1234323e-09]\n",
      "[7.3797302e-04 9.9926203e-01]\n",
      "[1.0000000e+00 4.9846173e-13]\n",
      "[0.01420306 0.9857969 ]\n",
      "[1.0000000e+00 4.2951713e-14]\n",
      "[0.10129865 0.89870137]\n",
      "[1.0000000e+00 6.8577956e-12]\n",
      "[1.2443375e-07 9.9999988e-01]\n",
      "[9.999613e-01 3.869334e-05]\n",
      "[1.0405065e-05 9.9998957e-01]\n",
      "[0.87339866 0.12660132]\n",
      "[0.01420306 0.9857969 ]\n",
      "[1.0000000e+00 2.4056156e-11]\n",
      "[0.10129865 0.89870137]\n",
      "[1.0000000e+00 2.0572465e-12]\n",
      "[6.653120e-05 9.999335e-01]\n",
      "[1.0000000e+00 2.1234323e-09]\n",
      "[1.2614707e-06 9.9999875e-01]\n",
      "[0.71152234 0.28847766]\n",
      "[4.5327688e-04 9.9954671e-01]\n",
      "[1.0000000e+00 4.3049975e-10]\n",
      "[4.5345168e-05 9.9995464e-01]\n",
      "[9.9999994e-01 8.4488072e-08]\n",
      "[0.03873759 0.9612624 ]\n",
      "[0.9976373  0.00236272]\n",
      "[7.3797302e-04 9.9926203e-01]\n",
      "[0.95072967 0.04927031]\n",
      "[2.1287566e-05 9.9997872e-01]\n",
      "[0.87339866 0.12660132]\n",
      "[0.00512467 0.9948753 ]\n",
      "[1.0000000e+00 3.5118758e-13]\n",
      "[2.0577889e-07 9.9999982e-01]\n",
      "[1.0000000e+00 4.9846173e-13]\n",
      "[1.0405065e-05 9.9998957e-01]\n",
      "[0.23970015 0.76029986]\n",
      "[9.6612303e-07 9.9999905e-01]\n",
      "[1.0000000e+00 4.2951713e-14]\n",
      "[2.1511514e-06 9.9999785e-01]\n",
      "[9.999942e-01 5.762696e-06]\n",
      "[3.881860e-06 9.999961e-01]\n",
      "[1.0000000e+00 1.2281749e-13]\n",
      "[3.0827048e-04 9.9969172e-01]\n",
      "[0.95072967 0.04927031]\n",
      "[3.0827048e-04 9.9969172e-01]\n",
      "[9.9999970e-01 3.0703157e-07]\n",
      "[9.676264e-08 9.999999e-01]\n",
      "[1.0000000e+00 1.0412189e-11]\n",
      "[3.881860e-06 9.999961e-01]\n",
      "[1.0000000e+00 1.0412189e-11]\n",
      "[3.0905387e-05 9.9996907e-01]\n",
      "[1.0000000e+00 1.4253174e-12]\n",
      "[4.5327688e-04 9.9954671e-01]\n",
      "[1.0000000e+00 7.0750095e-13]\n",
      "[0.00512467 0.9948753 ]\n",
      "[1.0000000e+00 1.5826503e-11]\n",
      "[3.0905387e-05 9.9996907e-01]\n",
      "[1.000000e+00 9.330725e-11]\n",
      "[0.03873759 0.9612624 ]\n",
      "[1.00000000e+00 1.21959225e-08]\n",
      "[7.5244920e-08 9.9999994e-01]\n",
      "[1.0000000e+00 1.5826503e-11]\n",
      "[7.5244920e-08 9.9999994e-01]\n",
      "[0.87339866 0.12660132]\n",
      "[0.10129865 0.89870137]\n",
      "[0.23970015 0.76029986]\n",
      "[0.10129865 0.89870137]\n",
      "[1.0000000e+00 2.4742616e-13]\n",
      "[0.03873759 0.9612624 ]\n",
      "[0.23970015 0.76029986]\n",
      "[0.00183823 0.9981618 ]\n",
      "[0.98180884 0.01819113]\n",
      "[9.6612303e-07 9.9999905e-01]\n",
      "[1.0000000e+00 1.4253174e-12]\n",
      "[0.00183823 0.9981618 ]\n",
      "[0.46860012 0.53139985]\n",
      "[3.0827048e-04 9.9969172e-01]\n",
      "[9.9969739e-01 3.0263158e-04]\n",
      "[1.6001793e-07 9.9999982e-01]\n",
      "[1.0000000e+00 7.0750095e-13]\n",
      "[0.00183823 0.9981618 ]\n",
      "[1.0000000e+00 3.7248922e-09]\n",
      "[9.6612303e-07 9.9999905e-01]\n",
      "[1.0000000e+00 6.8577956e-12]\n",
      "[0.10129865 0.89870137]\n",
      "[9.9999970e-01 3.0703157e-07]\n",
      "[2.0577889e-07 9.9999982e-01]\n",
      "[1.0000000e+00 1.5533429e-10]\n",
      "[0.01420306 0.9857969 ]\n",
      "[1.0000000e+00 1.0041989e-12]\n",
      "[0.01420306 0.9857969 ]\n",
      "[1.000000e+00 9.330725e-11]\n",
      "[0.01420306 0.9857969 ]\n",
      "[0.95072967 0.04927031]\n",
      "[2.1511514e-06 9.9999785e-01]\n",
      "[9.9998605e-01 1.3946589e-05]\n",
      "[1.2443375e-07 9.9999988e-01]\n",
      "[1.000000e+00 2.585955e-10]\n",
      "[6.653120e-05 9.999335e-01]\n",
      "[0.99341935 0.00658064]\n",
      "[4.5327688e-04 9.9954671e-01]\n",
      "[9.9915397e-01 8.4600924e-04]\n",
      "[5.666875e-07 9.999994e-01]\n",
      "[1.0000000e+00 1.2281749e-13]\n",
      "[3.881860e-06 9.999961e-01]\n",
      "[1.0000000e+00 4.2951713e-14]\n",
      "[5.3282024e-06 9.9999470e-01]\n",
      "[1.0000000e+00 6.8577956e-12]\n",
      "[3.4030052e-07 9.9999964e-01]\n",
      "[9.999613e-01 3.869334e-05]\n",
      "[1.2614707e-06 9.9999875e-01]\n",
      "[1.0000000e+00 1.5826503e-11]\n",
      "[7.5244920e-08 9.9999994e-01]\n",
      "[1.00000000e+00 1.21959225e-08]\n",
      "[3.0827048e-04 9.9969172e-01]\n",
      "[0.87339866 0.12660132]\n",
      "[7.3797302e-04 9.9926203e-01]\n",
      "[1.0000000e+00 2.4056156e-11]\n",
      "[5.666875e-07 9.999994e-01]\n",
      "[1.0000000e+00 1.4253174e-12]\n",
      "[2.1511514e-06 9.9999785e-01]\n",
      "[9.9989176e-01 1.0821856e-04]\n",
      "[2.1012157e-04 9.9978989e-01]\n",
      "[9.999942e-01 5.762696e-06]\n",
      "[5.3282024e-06 9.9999470e-01]\n",
      "[1.0000000e+00 5.7860917e-11]\n",
      "[1.2443375e-07 9.9999988e-01]\n",
      "[1.0000000e+00 1.2281749e-13]\n",
      "[1.4321793e-04 9.9985677e-01]\n",
      "[1.000000e+00 6.096396e-14]\n",
      "[7.5244920e-08 9.9999994e-01]\n",
      "[9.9969739e-01 3.0263158e-04]\n",
      "[4.3761668e-07 9.9999958e-01]\n",
      "[9.999613e-01 3.869334e-05]\n",
      "[0.10129865 0.89870137]\n",
      "[9.9999970e-01 3.0703157e-07]\n",
      "[9.676264e-08 9.999999e-01]\n",
      "[1.000000e+00 2.585955e-10]\n",
      "[6.653120e-05 9.999335e-01]\n",
      "[9.9999756e-01 2.4574736e-06]\n",
      "[2.0577889e-07 9.9999982e-01]\n",
      "[1.0000000e+00 2.3249182e-08]\n",
      "[3.0827048e-04 9.9969172e-01]\n",
      "[1.0000000e+00 1.7432262e-13]\n",
      "[7.5244920e-08 9.9999994e-01]\n",
      "[0.46860012 0.53139985]\n",
      "[1.6471042e-06 9.9999833e-01]\n",
      "[9.9915397e-01 8.4600924e-04]\n",
      "[2.8735644e-06 9.9999714e-01]\n",
      "[0.9976373  0.00236272]\n",
      "[9.676264e-08 9.999999e-01]\n",
      "[9.9998605e-01 1.3946589e-05]\n",
      "[0.00512467 0.9948753 ]\n",
      "[0.46860012 0.53139985]\n",
      "[1.4321793e-04 9.9985677e-01]\n",
      "[1.0000000e+00 4.3049975e-10]\n",
      "[2.1511514e-06 9.9999785e-01]\n",
      "[1.0000000e+00 1.5826503e-11]\n",
      "[9.676264e-08 9.999999e-01]\n",
      "[1.000000e+00 6.096396e-14]\n",
      "[7.3992703e-07 9.9999928e-01]\n",
      "[1.0000000e+00 2.1234323e-09]\n",
      "[0.01420306 0.9857969 ]\n",
      "[1.000000e+00 3.661513e-11]\n",
      "[1.4321793e-04 9.9985677e-01]\n",
      "[1.0000000e+00 1.0041989e-12]\n",
      "[7.3797302e-04 9.9926203e-01]\n",
      "[0.46860012 0.53139985]\n",
      "[7.3992703e-07 9.9999928e-01]\n",
      "[0.95072967 0.04927031]\n",
      "[1.6001793e-07 9.9999982e-01]\n",
      "[1.00000000e+00 1.21959225e-08]\n",
      "[1.6001793e-07 9.9999982e-01]\n",
      "[1.0000000e+00 7.0750095e-13]\n",
      "[0.00183823 0.9981618 ]\n",
      "[1.000e+00 8.653e-14]\n",
      "[1.6001793e-07 9.9999982e-01]\n",
      "[1.0000000e+00 2.3249182e-08]\n",
      "[1.6001793e-07 9.9999982e-01]\n",
      "[9.9999994e-01 4.4320267e-08]\n",
      "[3.881860e-06 9.999961e-01]\n",
      "[1.0000000e+00 3.7248922e-09]\n",
      "[2.1511514e-06 9.9999785e-01]\n",
      "[1.0000000e+00 3.5118758e-13]\n",
      "[3.0905387e-05 9.9996907e-01]\n",
      "[9.9989176e-01 1.0821856e-04]\n",
      "[3.4030052e-07 9.9999964e-01]\n",
      "[1.0000000e+00 1.5826503e-11]\n",
      "[5.666875e-07 9.999994e-01]\n",
      "[1.0000000e+00 2.0572465e-12]\n",
      "[0.00183823 0.9981618 ]\n",
      "[0.46860012 0.53139985]\n",
      "[9.6612303e-07 9.9999905e-01]\n",
      "[9.9999970e-01 3.0703157e-07]\n",
      "[2.6462502e-07 9.9999976e-01]\n",
      "[1.0000000e+00 2.9994369e-12]\n",
      "[3.0827048e-04 9.9969172e-01]\n",
      "[1.0000000e+00 2.4742616e-13]\n",
      "[1.2614707e-06 9.9999875e-01]\n",
      "[1.0000000e+00 2.1234323e-09]\n",
      "[3.881860e-06 9.999961e-01]\n",
      "[0.46860012 0.53139985]\n",
      "[3.4030052e-07 9.9999964e-01]\n",
      "[1.0000000e+00 2.9994369e-12]\n",
      "[7.5244920e-08 9.9999994e-01]\n",
      "[1.000000e+00 2.585955e-10]\n",
      "[7.3134261e-06 9.9999267e-01]\n",
      "[1.0000000e+00 1.2281749e-13]\n",
      "[0.03873759 0.9612624 ]\n",
      "[9.9915397e-01 8.4600924e-04]\n",
      "[0.10129865 0.89870137]\n",
      "[9.999613e-01 3.869334e-05]\n",
      "[5.8512125e-08 9.9999994e-01]\n",
      "[1.0000000e+00 1.5826503e-11]\n",
      "[2.6462502e-07 9.9999976e-01]\n",
      "[1.0000000e+00 6.7354207e-09]\n",
      "[1.4882825e-05 9.9998510e-01]\n",
      "[9.9999982e-01 1.6106071e-07]\n",
      "[1.2443375e-07 9.9999988e-01]\n",
      "[1.000000e+00 2.585955e-10]\n",
      "[5.8512125e-08 9.9999994e-01]\n",
      "[1.0000000e+00 7.2907835e-10]\n",
      "[7.3992703e-07 9.9999928e-01]\n",
      "[0.99341935 0.00658064]\n",
      "[0.03873759 0.9612624 ]\n",
      "[0.71152234 0.28847766]\n",
      "[5.3282024e-06 9.9999470e-01]\n",
      "[1.0000000e+00 6.8577956e-12]\n",
      "[1.2443375e-07 9.9999988e-01]\n",
      "[1.0000000e+00 1.2442463e-09]\n",
      "[2.8735644e-06 9.9999714e-01]\n",
      "[9.9989176e-01 1.0821856e-04]\n",
      "[3.0827048e-04 9.9969172e-01]\n",
      "[0.23970015 0.76029986]\n",
      "[1.2614707e-06 9.9999875e-01]\n",
      "[1.000000e+00 3.661513e-11]\n",
      "[9.6612303e-07 9.9999905e-01]\n",
      "[1.0000000e+00 4.2951713e-14]\n",
      "[7.5244920e-08 9.9999994e-01]\n",
      "[1.0000000e+00 4.2951713e-14]\n",
      "[0.01420306 0.9857969 ]\n",
      "[1.0000000e+00 1.7432262e-13]\n",
      "[1.2443375e-07 9.9999988e-01]\n",
      "[1.0000000e+00 4.2951713e-14]\n",
      "[5.666875e-07 9.999994e-01]\n",
      "[9.9999982e-01 1.6106071e-07]\n",
      "[1.2614707e-06 9.9999875e-01]\n",
      "[1.00000000e+00 1.21959225e-08]\n",
      "[9.676264e-08 9.999999e-01]\n",
      "[1.0000000e+00 2.4742616e-13]\n",
      "[9.6612303e-07 9.9999905e-01]\n",
      "[9.9915397e-01 8.4600924e-04]\n",
      "[2.1511514e-06 9.9999785e-01]\n",
      "[9.999613e-01 3.869334e-05]\n",
      "[4.5345168e-05 9.9995464e-01]\n",
      "[1.0000000e+00 3.5118758e-13]\n",
      "[1.4882825e-05 9.9998510e-01]\n",
      "[1.0000000e+00 5.7860917e-11]\n",
      "[1.4321793e-04 9.9985677e-01]\n",
      "[1.0000000e+00 1.2442463e-09]\n",
      "[1.6471042e-06 9.9999833e-01]\n",
      "[1.0000000e+00 1.5533429e-10]\n",
      "[1.4321793e-04 9.9985677e-01]\n",
      "[1.0000000e+00 2.1234323e-09]\n",
      "[7.3134261e-06 9.9999267e-01]\n",
      "[1.0000000e+00 1.0041989e-12]\n",
      "[9.676264e-08 9.999999e-01]\n",
      "[1.0000000e+00 4.3049975e-10]\n",
      "[0.00183823 0.9981618 ]\n",
      "[9.9998605e-01 1.3946589e-05]\n",
      "[4.3761668e-07 9.9999958e-01]\n",
      "[1.0000000e+00 6.8577956e-12]\n",
      "[1.4321793e-04 9.9985677e-01]\n",
      "[9.9969739e-01 3.0263158e-04]\n",
      "[0.10129865 0.89870137]\n",
      "[1.0000000e+00 1.2281749e-13]\n",
      "[5.8512125e-08 9.9999994e-01]\n",
      "[1.0000000e+00 2.4056156e-11]\n",
      "[0.00183823 0.9981618 ]\n",
      "[1.0000000e+00 1.5826503e-11]\n",
      "[1.6001793e-07 9.9999982e-01]\n",
      "[1.0000000e+00 2.1234323e-09]\n",
      "[0.00183823 0.9981618 ]\n",
      "[1.0000000e+00 1.5533429e-10]\n",
      "[1.2614707e-06 9.9999875e-01]\n",
      "[9.9915397e-01 8.4600924e-04]\n",
      "[5.666875e-07 9.999994e-01]\n",
      "[1.0000000e+00 2.1234323e-09]\n",
      "[7.3134261e-06 9.9999267e-01]\n",
      "[9.9999881e-01 1.1818505e-06]\n",
      "[4.5345168e-05 9.9995464e-01]\n",
      "[9.9999994e-01 4.4320267e-08]\n",
      "[1.2443375e-07 9.9999988e-01]\n",
      "[0.71152234 0.28847766]\n",
      "[2.0577889e-07 9.9999982e-01]\n",
      "[9.999994e-01 5.891809e-07]\n",
      "[0.03873759 0.9612624 ]\n",
      "[1.0000000e+00 4.2951713e-14]\n",
      "[5.8512125e-08 9.9999994e-01]\n",
      "[1.0000000e+00 1.5826503e-11]\n",
      "[2.1287566e-05 9.9997872e-01]\n",
      "[1.0000000e+00 4.3049975e-10]\n",
      "[0.10129865 0.89870137]\n",
      "[0.71152234 0.28847766]\n",
      "[5.3282024e-06 9.9999470e-01]\n",
      "[9.999613e-01 3.869334e-05]\n",
      "[4.3761668e-07 9.9999958e-01]\n",
      "[1.0000000e+00 1.0412189e-11]\n",
      "[1.4882825e-05 9.9998510e-01]\n",
      "[1.000000e+00 9.330725e-11]\n",
      "[2.6462502e-07 9.9999976e-01]\n",
      "[1.0000000e+00 1.5826503e-11]\n",
      "[0.10129865 0.89870137]\n",
      "[1.000000e+00 3.661513e-11]\n",
      "[3.881860e-06 9.999961e-01]\n",
      "[0.23970015 0.76029986]\n",
      "[5.666875e-07 9.999994e-01]\n",
      "[1.0000000e+00 1.2442463e-09]\n",
      "[9.6612303e-07 9.9999905e-01]\n",
      "[0.98180884 0.01819113]\n",
      "[2.0577889e-07 9.9999982e-01]\n",
      "[1.000000e+00 3.661513e-11]\n",
      "[0.10129865 0.89870137]\n",
      "[1.00000000e+00 1.21959225e-08]\n",
      "[3.4030052e-07 9.9999964e-01]\n",
      "[1.0000000e+00 2.0572465e-12]\n",
      "[0.01420306 0.9857969 ]\n",
      "[9.9999970e-01 3.0703157e-07]\n",
      "[2.0577889e-07 9.9999982e-01]\n",
      "[0.71152234 0.28847766]\n",
      "[0.01420306 0.9857969 ]\n",
      "[9.9989176e-01 1.0821856e-04]\n",
      "[9.6612303e-07 9.9999905e-01]\n",
      "[0.98180884 0.01819113]\n",
      "[1.4882825e-05 9.9998510e-01]\n",
      "[0.46860012 0.53139985]\n",
      "[2.1511514e-06 9.9999785e-01]\n",
      "[0.23970015 0.76029986]\n",
      "[1.4321793e-04 9.9985677e-01]\n",
      "[0.99341935 0.00658064]\n",
      "[5.8512125e-08 9.9999994e-01]\n",
      "[1.0000000e+00 3.7248922e-09]\n",
      "[0.00512467 0.9948753 ]\n",
      "[1.000e+00 8.653e-14]\n",
      "[1.6001793e-07 9.9999982e-01]\n",
      "[1.0000000e+00 1.5533429e-10]\n",
      "[2.1287566e-05 9.9997872e-01]\n",
      "[1.000000e+00 9.330725e-11]\n",
      "[7.3134261e-06 9.9999267e-01]\n",
      "[1.000000e+00 9.330725e-11]\n",
      "[4.5327688e-04 9.9954671e-01]\n",
      "[0.9976373  0.00236272]\n",
      "[2.1012157e-04 9.9978989e-01]\n",
      "[1.0000000e+00 6.7354207e-09]\n",
      "[7.5244920e-08 9.9999994e-01]\n",
      "[0.98180884 0.01819113]\n",
      "[1.6001793e-07 9.9999982e-01]\n",
      "[0.9976373  0.00236272]\n",
      "[1.2614707e-06 9.9999875e-01]\n",
      "[0.99341935 0.00658064]\n",
      "[3.881860e-06 9.999961e-01]\n",
      "[9.9969739e-01 3.0263158e-04]\n",
      "[1.2614707e-06 9.9999875e-01]\n",
      "[1.0000000e+00 4.9846173e-13]\n",
      "[1.0405065e-05 9.9998957e-01]\n",
      "[1.0000000e+00 2.3249182e-08]\n",
      "[4.3761668e-07 9.9999958e-01]\n",
      "[1.0000000e+00 7.0750095e-13]\n",
      "[2.0577889e-07 9.9999982e-01]\n",
      "[1.0000000e+00 4.5225876e-12]\n",
      "[3.881860e-06 9.999961e-01]\n",
      "[1.0000000e+00 1.5826503e-11]\n",
      "[7.5244920e-08 9.9999994e-01]\n",
      "[1.0000000e+00 4.9846173e-13]\n",
      "[4.5345168e-05 9.9995464e-01]\n",
      "[1.0000000e+00 2.0572465e-12]\n",
      "[2.1511514e-06 9.9999785e-01]\n",
      "[9.9989176e-01 1.0821856e-04]\n",
      "[7.3134261e-06 9.9999267e-01]\n",
      "[0.71152234 0.28847766]\n",
      "[7.5244920e-08 9.9999994e-01]\n",
      "[9.9999970e-01 3.0703157e-07]\n",
      "[9.676264e-08 9.999999e-01]\n",
      "[1.000000e+00 9.330725e-11]\n",
      "[6.653120e-05 9.999335e-01]\n",
      "[1.0000000e+00 2.3249182e-08]\n",
      "[1.0405065e-05 9.9998957e-01]\n",
      "[1.0000000e+00 1.2442463e-09]\n",
      "[4.5345168e-05 9.9995464e-01]\n",
      "[1.0000000e+00 7.2907835e-10]\n",
      "[7.3797302e-04 9.9926203e-01]\n",
      "[0.87339866 0.12660132]\n",
      "[0.00183823 0.9981618 ]\n",
      "[0.46860012 0.53139985]\n",
      "[2.8735644e-06 9.9999714e-01]\n"
     ]
    }
   ],
   "source": [
    "for i in predictions:\n",
    "    print(i)"
   ]
  },
  {
   "cell_type": "code",
   "execution_count": 21,
   "metadata": {},
   "outputs": [],
   "source": [
    "# rounded predictions\n",
    "rounded_predictions = model.predict_classes(scaled_test_samples, batch_size=10, verbose=0)"
   ]
  },
  {
   "cell_type": "code",
   "execution_count": 22,
   "metadata": {},
   "outputs": [
    {
     "data": {
      "text/plain": [
       "array([1, 0, 1, 0, 1, 0, 1, 0, 1, 0, 1, 0, 1, 0, 1, 0, 1, 0, 1, 0, 1, 0,\n",
       "       1, 0, 1, 0, 1, 0, 1], dtype=int64)"
      ]
     },
     "execution_count": 22,
     "metadata": {},
     "output_type": "execute_result"
    }
   ],
   "source": [
    "rounded_predictions[1:30]"
   ]
  },
  {
   "cell_type": "markdown",
   "metadata": {},
   "source": [
    " ## Confusion Matrix"
   ]
  },
  {
   "cell_type": "code",
   "execution_count": 23,
   "metadata": {},
   "outputs": [],
   "source": [
    "%matplotlib inline\n",
    "from sklearn.metrics import confusion_matrix\n",
    "import itertools\n",
    "import matplotlib.pyplot as plt"
   ]
  },
  {
   "cell_type": "code",
   "execution_count": 24,
   "metadata": {},
   "outputs": [],
   "source": [
    "cm = confusion_matrix(test_labels, rounded_predictions)"
   ]
  },
  {
   "cell_type": "code",
   "execution_count": 25,
   "metadata": {},
   "outputs": [],
   "source": [
    "def plot_confusion_matrix(cm, classes,\n",
    "                         normalize = False,\n",
    "                         title = 'Confusion matrix',\n",
    "                         cmap = plt.cm.Blues):\n",
    "    \"\"\" This function prints and plots the confusion matrix.\n",
    "    Normalization can be applied by setting 'normalize=True'.\"\"\"\n",
    "    plt.imshow(cm, interpolation='nearest', cmap=cmap)\n",
    "    plt.title(title)\n",
    "    plt.colorbar()\n",
    "    tick_marks = np.arange(len(classes))\n",
    "    plt.xticks(tick_marks, classes, rotation=45)\n",
    "    plt.yticks(tick_marks, classes)\n",
    "    \n",
    "    if normalize:\n",
    "        cm = cm.astype('float') / cm.sum(axis=1)[:, np.newaxis]\n",
    "        print(\"Normalized confusion matrix\")\n",
    "    else:\n",
    "        print('Confusion matrix, without normalization')\n",
    "    print(cm)\n",
    "    \n",
    "    thresh = cm.max()/2\n",
    "    for i,j in itertools.product(range(cm.shape[0]), range(cm.shape[1])):\n",
    "        plt.text(j, i, cm[i, j],\n",
    "                horizontalalignment = 'center',\n",
    "                color='white' if cm[i,j] > thresh else 'black')\n",
    "    plt.tight_layout()\n",
    "    plt.ylabel('True Label')\n",
    "    plt.xlabel('Predicted Label')"
   ]
  },
  {
   "cell_type": "code",
   "execution_count": 26,
   "metadata": {},
   "outputs": [
    {
     "name": "stdout",
     "output_type": "stream",
     "text": [
      "Confusion matrix, without normalization\n",
      "[[187  23]\n",
      " [  9 201]]\n"
     ]
    },
    {
     "data": {
      "image/png": "[encoded data removed]",
      "text/plain": [
       "<Figure size 432x288 with 2 Axes>"
      ]
     },
     "metadata": {
      "needs_background": "light"
     },
     "output_type": "display_data"
    }
   ],
   "source": [
    "cm_plot_labels = ['no_side_effects', 'had_side_effects']\n",
    "plot_confusion_matrix(cm, cm_plot_labels, title='Confusion matrix')"
   ]
  },
  {
   "cell_type": "markdown",
   "metadata": {},
   "source": [
    "## Save and load model"
   ]
  },
  {
   "cell_type": "markdown",
   "metadata": {},
   "source": [
    "1. <code>model.save()</code>"
   ]
  },
  {
   "cell_type": "code",
   "execution_count": 27,
   "metadata": {},
   "outputs": [],
   "source": [
    "model.save('model_trial.h5')"
   ]
  },
  {
   "cell_type": "markdown",
   "metadata": {},
   "source": [
    "This save function saves:\n",
    "<li>The architecture of the model, allowing to recreate the model.</li>\n",
    "<li>The weights of the model.</li>\n",
    "<li>The training configuration (loss, optimizer).</li>\n",
    "<li>The state of the optimizer, allowing to resume training exactly where we left off.</li>"
   ]
  },
  {
   "cell_type": "code",
   "execution_count": 28,
   "metadata": {},
   "outputs": [],
   "source": [
    "from keras.models import load_model\n",
    "new_model = load_model('model_trial.h5')"
   ]
  },
  {
   "cell_type": "code",
   "execution_count": 29,
   "metadata": {},
   "outputs": [
    {
     "name": "stdout",
     "output_type": "stream",
     "text": [
      "_________________________________________________________________\n",
      "Layer (type)                 Output Shape              Param #   \n",
      "=================================================================\n",
      "dense_1 (Dense)              (None, 16)                32        \n",
      "_________________________________________________________________\n",
      "dense_2 (Dense)              (None, 32)                544       \n",
      "_________________________________________________________________\n",
      "dense_3 (Dense)              (None, 2)                 66        \n",
      "=================================================================\n",
      "Total params: 642\n",
      "Trainable params: 642\n",
      "Non-trainable params: 0\n",
      "_________________________________________________________________\n"
     ]
    }
   ],
   "source": [
    "new_model.summary()"
   ]
  },
  {
   "cell_type": "code",
   "execution_count": 30,
   "metadata": {},
   "outputs": [
    {
     "data": {
      "text/plain": [
       "[array([[-0.43661407, -0.25614563,  0.7218026 , -0.29054213, -0.47191945,\n",
       "          0.48486766,  0.7297359 ,  0.58028895,  0.7573558 ,  0.8147575 ,\n",
       "         -0.32161242, -0.15060121,  0.3923052 ,  0.5480668 , -0.13079903,\n",
       "         -0.35513046]], dtype=float32),\n",
       " array([ 0.34563038,  0.19309539, -0.16270326,  0.2620107 , -0.00599908,\n",
       "        -0.16147716, -0.15068544,  0.01432387, -0.09032013, -0.1137273 ,\n",
       "         0.26989758,  0.23267412, -0.10510585, -0.16709451, -0.00598389,\n",
       "         0.2915045 ], dtype=float32),\n",
       " array([[-5.63083477e-02,  9.69363093e-01, -4.00061607e-02,\n",
       "          8.77560198e-01, -7.56432712e-02, -9.49710190e-01,\n",
       "          1.18512653e-01, -3.78989458e-01, -8.95962894e-01,\n",
       "          8.47865582e-01, -4.87520486e-01, -1.00422382e+00,\n",
       "          7.08520532e-01,  1.04544866e+00,  7.81100392e-01,\n",
       "         -1.37976706e-01,  6.25277817e-01, -2.14185685e-01,\n",
       "         -3.11106175e-01,  1.05422854e+00,  9.65618670e-01,\n",
       "          9.47126687e-01, -9.94524658e-01,  6.11068487e-01,\n",
       "          8.89021099e-01, -6.03014827e-01,  4.75858748e-01,\n",
       "         -2.64169633e-01, -4.73135442e-01, -6.01588845e-01,\n",
       "         -8.26686680e-01,  1.09100914e+00],\n",
       "        [ 1.32470936e-01,  2.40452066e-01, -1.82139471e-01,\n",
       "          2.31684566e-01,  1.85058206e-01, -8.81415606e-01,\n",
       "          2.19365165e-01, -7.91234910e-01, -8.44856024e-01,\n",
       "          9.21703100e-01, -6.24993622e-01, -9.75746632e-01,\n",
       "          5.83521605e-01,  3.93732250e-01,  7.59197533e-01,\n",
       "         -6.38204515e-02,  5.70086420e-01, -1.46627262e-01,\n",
       "         -2.52737880e-01,  7.47969747e-01,  4.78729963e-01,\n",
       "          3.06414664e-01, -7.35698879e-01,  7.17808783e-01,\n",
       "          2.98742265e-01, -5.88104129e-01,  7.32792675e-01,\n",
       "         -3.20004523e-01, -7.54973888e-01, -7.35367417e-01,\n",
       "         -6.39673889e-01,  6.86620653e-01],\n",
       "        [-2.45891392e-01,  1.00369878e-01, -1.96064696e-01,\n",
       "         -1.07936382e-01,  2.58671314e-01,  5.54679096e-01,\n",
       "         -1.65975332e-01,  3.23641092e-01,  2.56884750e-02,\n",
       "         -3.06096911e-01,  6.45723999e-01,  3.25906038e-01,\n",
       "         -2.53166199e-01, -1.59393817e-01, -4.07637805e-01,\n",
       "          1.73413008e-01, -1.30748093e-01,  7.68764913e-02,\n",
       "         -3.44598383e-01, -2.22025827e-01, -3.74919236e-01,\n",
       "         -5.07386088e-01,  3.39849740e-01, -4.86735106e-01,\n",
       "         -4.34902102e-01,  2.20996872e-01,  1.06366992e-01,\n",
       "          8.81906748e-02,  1.91009790e-01,  3.92479539e-01,\n",
       "          4.12721246e-01, -3.06543618e-01],\n",
       "        [ 1.95013419e-01,  7.29659677e-01, -8.41315985e-02,\n",
       "          3.27745944e-01, -3.13382268e-01, -1.65720254e-01,\n",
       "         -3.50106537e-01, -3.57963443e-01, -1.50361314e-01,\n",
       "          7.50064373e-01, -2.25539863e-01, -4.16473329e-01,\n",
       "          5.33964455e-01,  6.46117806e-01,  8.11779916e-01,\n",
       "         -2.05711111e-01,  8.57950866e-01, -1.16918683e-01,\n",
       "         -3.86349559e-02,  8.38028550e-01,  4.82257456e-01,\n",
       "          3.83365899e-01, -5.96406043e-01,  6.41556621e-01,\n",
       "          5.38605928e-01, -4.91045296e-01,  7.18257070e-01,\n",
       "         -2.62976885e-01, -6.63146853e-01, -5.35596192e-01,\n",
       "         -3.40876549e-01,  7.80115128e-01],\n",
       "        [ 2.63711423e-01,  5.64881563e-02,  1.61173642e-02,\n",
       "         -2.09651425e-01, -1.15098760e-01,  1.89234525e-01,\n",
       "          1.96792752e-01,  2.24391550e-01, -1.42399639e-01,\n",
       "          2.32611984e-01, -8.70052874e-02, -2.62648761e-01,\n",
       "         -1.01609021e-01, -1.41060248e-01, -2.57230163e-01,\n",
       "         -2.28407249e-01,  1.65306121e-01,  9.82421041e-02,\n",
       "          2.27266282e-01,  1.66330129e-01,  2.65064567e-01,\n",
       "         -2.79643327e-01,  3.36300731e-02, -3.23537320e-01,\n",
       "         -2.03701317e-01, -1.14179432e-01,  3.37911993e-01,\n",
       "          3.33063513e-01, -3.47304583e-01,  7.27339983e-02,\n",
       "         -2.67244190e-01,  1.23165578e-01],\n",
       "        [-2.22524300e-01, -5.44641972e-01,  1.18246078e-02,\n",
       "         -3.61021787e-01, -3.35859835e-01,  2.44834885e-01,\n",
       "          1.94710493e-02,  7.22077191e-01,  9.82227102e-02,\n",
       "         -5.91667950e-01,  1.56042367e-01,  3.00685823e-01,\n",
       "         -4.03523028e-01, -1.53852776e-01, -2.18714461e-01,\n",
       "         -3.22433352e-01, -4.50439602e-01, -1.01955503e-01,\n",
       "          5.28816879e-02, -4.75621164e-01, -5.44013083e-01,\n",
       "         -1.21979795e-01,  5.78333616e-01, -5.93552887e-01,\n",
       "         -4.54010069e-01,  5.68608701e-01, -4.43834096e-01,\n",
       "         -1.19884372e-01,  6.55857265e-01,  6.54500723e-01,\n",
       "          3.75129759e-01, -1.36267081e-01],\n",
       "        [ 1.78823858e-01,  1.09320618e-02,  7.52105117e-02,\n",
       "         -2.41184980e-01, -3.70525718e-01,  3.00748169e-01,\n",
       "          2.37383321e-02,  4.32439655e-01,  6.39302850e-01,\n",
       "          1.27045453e-01,  2.37126812e-01,  3.55661511e-01,\n",
       "         -4.80922937e-01, -1.40673686e-02, -8.22770447e-02,\n",
       "         -2.51567870e-01, -4.85797614e-01, -2.58138776e-03,\n",
       "          1.56311899e-01, -3.76083106e-01,  6.38220385e-02,\n",
       "         -5.29389322e-01,  1.26294121e-01, -1.31524935e-01,\n",
       "         -5.39284898e-03,  2.48158380e-01, -3.12084973e-01,\n",
       "          6.43366873e-02,  5.62300444e-01,  3.02151710e-01,\n",
       "          5.77308655e-01, -2.30422597e-02],\n",
       "        [-3.20224613e-01, -2.39096850e-01,  1.40652061e-03,\n",
       "         -1.10881850e-01,  2.69420266e-01,  5.08435369e-01,\n",
       "          1.06411777e-01,  4.01161879e-01,  5.00908971e-01,\n",
       "         -9.12560299e-02,  2.13868111e-01,  4.51783091e-01,\n",
       "          1.58566147e-01,  1.09849125e-02, -1.53791964e-01,\n",
       "         -1.22382924e-01, -9.10078660e-02,  8.48027468e-02,\n",
       "          2.42236465e-01,  1.73250046e-02,  4.33242269e-04,\n",
       "          2.77367264e-01,  2.99602389e-01, -1.82924494e-01,\n",
       "         -7.68222008e-03, -4.32173349e-02, -3.15815471e-02,\n",
       "          1.26050591e-01,  3.83061171e-01,  4.72903877e-01,\n",
       "          2.48454824e-01, -2.65418917e-01],\n",
       "        [-2.00687930e-01, -4.23035659e-02, -3.33758622e-01,\n",
       "         -3.41768384e-01,  1.18661441e-01,  2.47750938e-01,\n",
       "          1.24729238e-01,  1.81068361e-01,  4.70256805e-01,\n",
       "         -1.78415075e-01,  6.40017986e-01,  5.16288579e-01,\n",
       "         -3.94016095e-02, -3.38453650e-01, -1.18039384e-01,\n",
       "          1.29405618e-01,  4.72112559e-02,  6.78963661e-02,\n",
       "         -3.23300183e-01, -3.20185483e-01,  1.91096336e-01,\n",
       "         -1.09806083e-01,  1.71704099e-01, -5.96575215e-02,\n",
       "         -3.73122133e-02,  4.36971545e-01,  4.88297828e-03,\n",
       "         -1.86812043e-01,  4.98386696e-02,  2.40644380e-01,\n",
       "          5.08236110e-01, -3.29352438e-01],\n",
       "        [-1.10035002e-01, -2.51655817e-01,  1.04094565e-01,\n",
       "         -2.94177625e-02, -2.05584794e-01,  5.87167621e-01,\n",
       "         -1.38035007e-02,  4.84623089e-02,  1.32161751e-01,\n",
       "         -1.93126440e-01,  3.28234732e-01, -2.90357433e-02,\n",
       "         -1.64503381e-01, -4.40599740e-01, -1.60954610e-01,\n",
       "         -7.84699619e-02,  1.38561968e-02, -4.44526970e-02,\n",
       "          1.44559145e-03, -1.42181024e-01, -3.67556602e-01,\n",
       "         -5.66468574e-02,  6.36994779e-01,  1.46968424e-01,\n",
       "         -2.02817678e-01,  5.18161535e-01, -3.45098704e-01,\n",
       "         -2.75488257e-01,  6.87667727e-01,  4.89201367e-01,\n",
       "          5.19210994e-01, -2.58294225e-01],\n",
       "        [-7.95492306e-02,  7.18944371e-01,  2.13632613e-01,\n",
       "          7.85859644e-01, -3.03475052e-01, -5.53820252e-01,\n",
       "          1.45046026e-01, -7.26792276e-01, -6.55897975e-01,\n",
       "          7.79664576e-01, -4.53777075e-01, -2.75938481e-01,\n",
       "          4.23214376e-01,  8.17178965e-01,  9.15399790e-01,\n",
       "         -5.10984063e-02,  6.00067019e-01,  4.62006032e-02,\n",
       "          2.09297538e-02,  8.97480130e-01,  6.96971297e-01,\n",
       "          2.90129125e-01, -4.23191667e-01,  4.68560606e-01,\n",
       "          9.35961843e-01, -3.19254518e-01,  7.65361786e-01,\n",
       "         -1.33194387e-01, -8.53960454e-01, -3.40959132e-01,\n",
       "         -7.33283937e-01,  8.95575166e-01],\n",
       "        [ 1.88759640e-01,  1.74598366e-01,  1.07484609e-01,\n",
       "          3.71764839e-01, -1.61557093e-01, -4.22022752e-02,\n",
       "         -3.07165772e-01, -3.43322635e-01,  1.87497288e-01,\n",
       "          7.77298436e-02,  4.24940176e-02, -2.39541993e-01,\n",
       "          5.41557968e-01,  6.12338483e-01,  1.40347734e-01,\n",
       "          2.20939219e-02,  4.70855385e-02, -1.95853844e-01,\n",
       "          1.25756800e-01,  3.58742386e-01,  4.63650823e-01,\n",
       "          5.86764872e-01,  1.19022436e-01,  3.67367774e-01,\n",
       "          4.49230462e-01, -2.93316543e-01,  2.54630268e-01,\n",
       "         -1.73584700e-01,  2.38815963e-01, -1.78780481e-01,\n",
       "         -3.06100011e-01,  6.20194614e-01],\n",
       "        [ 3.00071061e-01, -6.20054841e-01, -1.52577832e-01,\n",
       "          1.96546782e-02,  2.48279288e-01,  1.10160224e-02,\n",
       "         -2.80840248e-01,  5.80390990e-01,  5.43397784e-01,\n",
       "          1.10360875e-03,  1.04430914e-01,  5.68662047e-01,\n",
       "         -2.91525483e-01, -1.09779745e-01, -1.53819531e-01,\n",
       "         -1.17832214e-01, -4.24036562e-01, -2.64166385e-01,\n",
       "         -1.48092508e-02,  1.08447827e-01, -5.07677257e-01,\n",
       "         -3.86668831e-01,  9.50338915e-02, -4.78164524e-01,\n",
       "         -3.56685549e-01,  5.88332832e-01, -6.64162040e-02,\n",
       "          3.11700970e-01,  2.81598121e-01,  2.75481969e-01,\n",
       "          4.55545068e-01, -1.65517598e-01],\n",
       "        [-2.95540661e-01,  2.96933781e-02,  2.25124210e-01,\n",
       "         -4.25765097e-01, -8.30983818e-02,  5.03206253e-01,\n",
       "         -4.04791832e-02,  2.34977782e-01,  6.64921939e-01,\n",
       "         -4.88481492e-01,  7.09368348e-01,  6.29782617e-01,\n",
       "         -5.29654562e-01, -5.81420124e-01, -2.67935902e-01,\n",
       "         -2.83696055e-01, -3.11903000e-01, -2.26705432e-01,\n",
       "          2.30350584e-01, -9.58296657e-02, -6.24267161e-01,\n",
       "         -3.68283719e-01,  6.94607556e-01, -2.04605237e-01,\n",
       "         -5.41036725e-01,  7.63712302e-02, -5.58508098e-01,\n",
       "         -1.68244883e-01,  2.86127627e-01,  3.43087018e-01,\n",
       "          5.39451420e-01, -1.14118516e-01],\n",
       "        [ 3.96099389e-02,  2.65898675e-01,  2.60615498e-01,\n",
       "         -1.19795486e-01,  9.45872068e-03,  3.27078611e-01,\n",
       "         -2.20692292e-01, -3.00743431e-01, -8.35685134e-02,\n",
       "         -1.06993288e-01, -3.09358269e-01,  2.70507127e-01,\n",
       "          2.04298228e-01,  1.49614841e-01,  3.14388782e-01,\n",
       "         -1.87958241e-01, -2.31898785e-01, -2.03060970e-01,\n",
       "         -1.70652628e-01, -1.61508620e-01, -2.30489075e-02,\n",
       "          9.60299373e-02, -1.38662562e-01, -3.01816702e-01,\n",
       "         -9.16266143e-02, -1.67434931e-01, -3.24740946e-01,\n",
       "          1.08089328e-01,  5.46015799e-02, -2.16870844e-01,\n",
       "         -9.84855890e-02, -1.65046573e-01],\n",
       "        [ 1.94275573e-01,  9.85212922e-01, -7.34343529e-02,\n",
       "          6.07155323e-01,  1.76522881e-01, -2.91864216e-01,\n",
       "          1.51175380e-01, -4.61764187e-01, -7.23828197e-01,\n",
       "          7.49922514e-01, -6.29863679e-01, -6.03376091e-01,\n",
       "          5.72973430e-01,  3.16525757e-01,  6.75872087e-01,\n",
       "         -8.42992663e-02,  7.52929449e-01, -2.88315862e-01,\n",
       "         -3.48369539e-01,  7.92589188e-01,  5.55147469e-01,\n",
       "          9.29924190e-01, -7.10035086e-01,  8.71326983e-01,\n",
       "          4.26258326e-01, -3.34532738e-01,  7.21765757e-01,\n",
       "          2.85475880e-01, -9.07699466e-01, -4.64024961e-01,\n",
       "         -7.41658032e-01,  3.93208206e-01]], dtype=float32),\n",
       " array([-0.0683746 ,  0.10465415, -0.00600306,  0.22010855, -0.02408738,\n",
       "        -0.07308801, -0.01767492, -0.01074055, -0.06715129,  0.20175076,\n",
       "        -0.09580523, -0.03840359,  0.2327207 ,  0.25808904,  0.18529586,\n",
       "        -0.00600201,  0.19820537, -0.0060036 , -0.00600381,  0.19181806,\n",
       "         0.21450397,  0.20221172, -0.04100676,  0.19057974,  0.23499896,\n",
       "        -0.05208722,  0.18494992, -0.00599547, -0.02948312, -0.07038992,\n",
       "        -0.05351475,  0.22806457], dtype=float32),\n",
       " array([[-2.99707413e-01,  7.02812970e-02],\n",
       "        [ 6.45287037e-01, -2.90497661e-01],\n",
       "        [-1.56447411e-01,  1.55417293e-01],\n",
       "        [ 1.16072369e+00, -9.17294383e-01],\n",
       "        [ 1.24253571e-01,  1.57347888e-01],\n",
       "        [-5.43056071e-01,  5.04138112e-01],\n",
       "        [ 1.15660444e-01,  4.06996727e-01],\n",
       "        [-6.19999707e-01,  8.61267507e-01],\n",
       "        [-5.31740785e-01,  5.64636886e-01],\n",
       "        [ 9.38531876e-01, -8.07840586e-01],\n",
       "        [-3.99153173e-01,  4.66794848e-01],\n",
       "        [-5.00176013e-01,  6.20149076e-01],\n",
       "        [ 1.02338946e+00, -5.43286324e-01],\n",
       "        [ 5.87185204e-01, -1.14570379e+00],\n",
       "        [ 8.24119806e-01, -6.52016997e-01],\n",
       "        [ 1.63624436e-01,  3.82189184e-01],\n",
       "        [ 1.05486059e+00, -8.63326132e-01],\n",
       "        [-3.24878097e-03,  3.97305399e-01],\n",
       "        [-1.07503682e-01,  3.41762871e-01],\n",
       "        [ 1.09404385e+00, -9.88221109e-01],\n",
       "        [ 7.64395773e-01, -9.17849362e-01],\n",
       "        [ 8.93110514e-01, -9.88741159e-01],\n",
       "        [-3.89846981e-01,  8.11453581e-01],\n",
       "        [ 1.10972035e+00, -4.75078464e-01],\n",
       "        [ 8.72975349e-01, -1.11756742e+00],\n",
       "        [-3.95920068e-01,  9.40789342e-01],\n",
       "        [ 9.92702663e-01, -9.22685504e-01],\n",
       "        [-2.01016665e-04,  7.56776631e-02],\n",
       "        [-6.18674636e-01,  4.41392213e-01],\n",
       "        [-8.13252807e-01,  1.71931371e-01],\n",
       "        [-6.77985787e-01,  5.71610451e-01],\n",
       "        [ 8.36777925e-01, -1.14785135e+00]], dtype=float32),\n",
       " array([ 0.08281001, -0.08281001], dtype=float32)]"
      ]
     },
     "execution_count": 30,
     "metadata": {},
     "output_type": "execute_result"
    }
   ],
   "source": [
    "new_model.get_weights()"
   ]
  },
  {
   "cell_type": "code",
   "execution_count": 31,
   "metadata": {},
   "outputs": [
    {
     "data": {
      "text/plain": [
       "<keras.optimizers.Adam at 0xdb3e7b8>"
      ]
     },
     "execution_count": 31,
     "metadata": {},
     "output_type": "execute_result"
    }
   ],
   "source": [
    "new_model.optimizer"
   ]
  },
  {
   "cell_type": "markdown",
   "metadata": {},
   "source": [
    "2. <code>model.to_json()</code>\n",
    "<br>\n",
    "If we only need to save the architecture of a model, and not its weights or its training configuration, we can use the following function to save the architecture only."
   ]
  },
  {
   "cell_type": "code",
   "execution_count": 32,
   "metadata": {},
   "outputs": [],
   "source": [
    "# save as JSON\n",
    "json_string = model.to_json()"
   ]
  },
  {
   "cell_type": "code",
   "execution_count": 33,
   "metadata": {},
   "outputs": [
    {
     "data": {
      "text/plain": [
       "'{\"class_name\": \"Sequential\", \"config\": {\"name\": \"sequential_1\", \"layers\": [{\"class_name\": \"Dense\", \"config\": {\"name\": \"dense_1\", \"trainable\": true, \"batch_input_shape\": [null, 1], \"dtype\": \"float32\", \"units\": 16, \"activation\": \"relu\", \"use_bias\": true, \"kernel_initializer\": {\"class_name\": \"VarianceScaling\", \"config\": {\"scale\": 1.0, \"mode\": \"fan_avg\", \"distribution\": \"uniform\", \"seed\": null}}, \"bias_initializer\": {\"class_name\": \"Zeros\", \"config\": {}}, \"kernel_regularizer\": null, \"bias_regularizer\": null, \"activity_regularizer\": null, \"kernel_constraint\": null, \"bias_constraint\": null}}, {\"class_name\": \"Dense\", \"config\": {\"name\": \"dense_2\", \"trainable\": true, \"units\": 32, \"activation\": \"relu\", \"use_bias\": true, \"kernel_initializer\": {\"class_name\": \"VarianceScaling\", \"config\": {\"scale\": 1.0, \"mode\": \"fan_avg\", \"distribution\": \"uniform\", \"seed\": null}}, \"bias_initializer\": {\"class_name\": \"Zeros\", \"config\": {}}, \"kernel_regularizer\": null, \"bias_regularizer\": null, \"activity_regularizer\": null, \"kernel_constraint\": null, \"bias_constraint\": null}}, {\"class_name\": \"Dense\", \"config\": {\"name\": \"dense_3\", \"trainable\": true, \"units\": 2, \"activation\": \"softmax\", \"use_bias\": true, \"kernel_initializer\": {\"class_name\": \"VarianceScaling\", \"config\": {\"scale\": 1.0, \"mode\": \"fan_avg\", \"distribution\": \"uniform\", \"seed\": null}}, \"bias_initializer\": {\"class_name\": \"Zeros\", \"config\": {}}, \"kernel_regularizer\": null, \"bias_regularizer\": null, \"activity_regularizer\": null, \"kernel_constraint\": null, \"bias_constraint\": null}}]}, \"keras_version\": \"2.2.4\", \"backend\": \"theano\"}'"
      ]
     },
     "execution_count": 33,
     "metadata": {},
     "output_type": "execute_result"
    }
   ],
   "source": [
    "json_string"
   ]
  },
  {
   "cell_type": "code",
   "execution_count": 34,
   "metadata": {},
   "outputs": [],
   "source": [
    "# model reconstruction from JSON\n",
    "from keras.models import model_from_json\n",
    "model_architecture = model_from_json(json_string)"
   ]
  },
  {
   "cell_type": "code",
   "execution_count": 35,
   "metadata": {},
   "outputs": [
    {
     "name": "stdout",
     "output_type": "stream",
     "text": [
      "_________________________________________________________________\n",
      "Layer (type)                 Output Shape              Param #   \n",
      "=================================================================\n",
      "dense_1 (Dense)              (None, 16)                32        \n",
      "_________________________________________________________________\n",
      "dense_2 (Dense)              (None, 32)                544       \n",
      "_________________________________________________________________\n",
      "dense_3 (Dense)              (None, 2)                 66        \n",
      "=================================================================\n",
      "Total params: 642\n",
      "Trainable params: 642\n",
      "Non-trainable params: 0\n",
      "_________________________________________________________________\n"
     ]
    }
   ],
   "source": [
    "model_architecture.summary()"
   ]
  },
  {
   "cell_type": "markdown",
   "metadata": {},
   "source": [
    "<br>\n",
    "3. <code>model.save_weights()</code><br><br>\n",
    "If we only need to save the weights of a model, we can use the save_weights() function to save weights only."
   ]
  },
  {
   "cell_type": "code",
   "execution_count": 36,
   "metadata": {},
   "outputs": [],
   "source": [
    "model.save_weights('my_model_weights.h5')"
   ]
  },
  {
   "cell_type": "code",
   "execution_count": 37,
   "metadata": {},
   "outputs": [],
   "source": [
    "model2 = Sequential([\n",
    "    Dense(16, input_shape=(1,), activation='relu'),\n",
    "    Dense(32, activation='relu'),\n",
    "    Dense(2, activation = 'softmax')\n",
    "])"
   ]
  },
  {
   "cell_type": "code",
   "execution_count": 38,
   "metadata": {},
   "outputs": [],
   "source": [
    "model2.load_weights('my_model_weights.h5')"
   ]
  }
 ],
 "metadata": {
  "kernelspec": {
   "display_name": "Python 3",
   "language": "python",
   "name": "python3"
  },
  "language_info": {
   "codemirror_mode": {
    "name": "ipython",
    "version": 3
   },
   "file_extension": ".py",
   "mimetype": "text/x-python",
   "name": "python",
   "nbconvert_exporter": "python",
   "pygments_lexer": "ipython3",
   "version": "3.7.3"
  }
 },
 "nbformat": 4,
 "nbformat_minor": 2
}
