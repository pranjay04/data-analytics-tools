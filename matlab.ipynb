{
 "cells": [
  {
   "cell_type": "markdown",
   "metadata": {},
   "source": [
    "# numpy\n",
    "<pr>Numpy is the core library for sceintific computing in Python. It provides a high-performance multidimentional array object and tools for working with these arrays. \n",
    "    </pr>"
   ]
  },
  {
   "cell_type": "code",
   "execution_count": 62,
   "metadata": {},
   "outputs": [],
   "source": [
    "import numpy as np"
   ]
  },
  {
   "cell_type": "markdown",
   "metadata": {},
   "source": [
    "A numpy array is a grid of values, all of the same type, and is indexed by a tuple of nonnegative integers."
   ]
  },
  {
   "cell_type": "code",
   "execution_count": 65,
   "metadata": {},
   "outputs": [],
   "source": [
    "# Creating a numpy array object\n",
    "array = np.array([1,4,5,6,7], int)"
   ]
  },
  {
   "cell_type": "code",
   "execution_count": 66,
   "metadata": {},
   "outputs": [
    {
     "name": "stdout",
     "output_type": "stream",
     "text": [
      "[1 4 5 6 7]\n"
     ]
    },
    {
     "data": {
      "text/plain": [
       "dtype('int64')"
      ]
     },
     "execution_count": 66,
     "metadata": {},
     "output_type": "execute_result"
    }
   ],
   "source": [
    "print(array)\n",
    "array.dtype"
   ]
  },
  {
   "cell_type": "code",
   "execution_count": 68,
   "metadata": {},
   "outputs": [
    {
     "name": "stdout",
     "output_type": "stream",
     "text": [
      "[[64 84 21  3  8  1]\n",
      " [ 4  3 89  1 40  5]]\n"
     ]
    }
   ],
   "source": [
    "# creating a two dimentional array object\n",
    "array_2d = np.array([[64,84,21,3,8,1], [4,3,89,1,40,5]], int)\n",
    "print(array_2d)"
   ]
  },
  {
   "cell_type": "code",
   "execution_count": 70,
   "metadata": {},
   "outputs": [
    {
     "data": {
      "text/plain": [
       "(2, 6)"
      ]
     },
     "execution_count": 70,
     "metadata": {},
     "output_type": "execute_result"
    }
   ],
   "source": [
    "array_2d.shape"
   ]
  },
  {
   "cell_type": "code",
   "execution_count": 71,
   "metadata": {},
   "outputs": [
    {
     "data": {
      "text/plain": [
       "array([[64, 84],\n",
       "       [21,  3],\n",
       "       [ 8,  1],\n",
       "       [ 4,  3],\n",
       "       [89,  1],\n",
       "       [40,  5]])"
      ]
     },
     "execution_count": 71,
     "metadata": {},
     "output_type": "execute_result"
    }
   ],
   "source": [
    "# giving new shape to the array\n",
    "np.reshape(array_2d, (6, 2))"
   ]
  },
  {
   "cell_type": "code",
   "execution_count": 72,
   "metadata": {},
   "outputs": [
    {
     "name": "stdout",
     "output_type": "stream",
     "text": [
      "[64 84 21  3  8  1] [ 3 89  1 40  5]\n",
      "[64 84 21  3  8  1] [ 3 89  1 40  5]\n"
     ]
    }
   ],
   "source": [
    "# array indexing\n",
    "\n",
    "print(array_2d[0], array_2d[1][1:])\n",
    "print(array_2d[0, :], array_2d[1, 1:])"
   ]
  },
  {
   "cell_type": "code",
   "execution_count": 73,
   "metadata": {},
   "outputs": [
    {
     "name": "stdout",
     "output_type": "stream",
     "text": [
      "Addition of two arrays -\n",
      "[ 77 818  76   8]\n",
      "Subtraction of two arrays -\n",
      "[ -73 -810   58    6]\n",
      "Element-wise multiplication of two arrays -\n",
      "[ 150 3256  603    7]\n",
      "Element-wise division of two arrays -\n",
      "[2.66666667e-02 4.91400491e-03 7.44444444e+00 7.00000000e+00]\n",
      "Taking square root of each element in the array -\n",
      "[1.41421356 2.         8.18535277 2.64575131]\n"
     ]
    }
   ],
   "source": [
    "a = np.array([2, 4, 67, 7], int)\n",
    "b = np.array([75, 814, 9, 1], int)\n",
    "\n",
    "print('Addition of two arrays -')\n",
    "print(np.add(a, b))\n",
    "\n",
    "print('Subtraction of two arrays -')\n",
    "print(np.subtract(a, b))\n",
    "\n",
    "print('Element-wise multiplication of two arrays -')\n",
    "print(np.multiply(a, b))\n",
    "\n",
    "print('Element-wise division of two arrays -')\n",
    "print(np.divide(a, b))\n",
    "\n",
    "print('Taking square root of each element in the array -')\n",
    "print(np.sqrt(a))"
   ]
  },
  {
   "cell_type": "code",
   "execution_count": 74,
   "metadata": {},
   "outputs": [
    {
     "name": "stdout",
     "output_type": "stream",
     "text": [
      "20.0\n",
      "42.0\n",
      "4016\n"
     ]
    }
   ],
   "source": [
    "# finding the mean of array a\n",
    "print(np.mean(a))\n",
    "\n",
    "# finding the meadian of array b\n",
    "print(np.median(b))\n",
    "\n",
    "# dot product of array a and b\n",
    "print(np.dot(a, b))"
   ]
  },
  {
   "cell_type": "markdown",
   "metadata": {},
   "source": [
    "printing array objects with dimention 2 X 2 having all -\n",
    "<ul>\n",
    "    <li>zero entries</li>\n",
    "    <li>ones</li>\n",
    "    <li>number 45</li>\n",
    "    <li>random numbers</li>\n",
    "</ul>"
   ]
  },
  {
   "cell_type": "code",
   "execution_count": 76,
   "metadata": {},
   "outputs": [
    {
     "name": "stdout",
     "output_type": "stream",
     "text": [
      "[[0. 0.]\n",
      " [0. 0.]]\n",
      "[[1. 1.]\n",
      " [1. 1.]]\n",
      "[[45 45]\n",
      " [45 45]]\n",
      "[[0.54371998 0.70723687]\n",
      " [0.26132608 0.09113901]]\n"
     ]
    }
   ],
   "source": [
    "print(np.zeros((2, 2)))\n",
    "print(np.ones((2,2)))\n",
    "print(np.full((2,2), 45))\n",
    "print(np.random.random((2, 2)))"
   ]
  }
 ],
 "metadata": {
  "kernelspec": {
   "display_name": "Python 3",
   "language": "python",
   "name": "python3"
  },
  "language_info": {
   "codemirror_mode": {
    "name": "ipython",
    "version": 3
   },
   "file_extension": ".py",
   "mimetype": "text/x-python",
   "name": "python",
   "nbconvert_exporter": "python",
   "pygments_lexer": "ipython3",
   "version": "3.7.1"
  }
 },
 "nbformat": 4,
 "nbformat_minor": 2
}
