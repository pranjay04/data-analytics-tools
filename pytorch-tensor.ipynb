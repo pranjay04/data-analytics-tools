{
    "nbformat_minor": 2, 
    "cells": [
        {
            "execution_count": 1, 
            "cell_type": "code", 
            "metadata": {}, 
            "outputs": [
                {
                    "output_type": "stream", 
                    "name": "stdout", 
                    "text": "Requirement already satisfied: torch in /opt/conda/envs/Python36/lib/python3.6/site-packages (1.1.0)\r\nRequirement already satisfied: numpy in /opt/conda/envs/Python36/lib/python3.6/site-packages (from torch) (1.15.4)\r\n"
                }
            ], 
            "source": "!pip install torch"
        }, 
        {
            "execution_count": 2, 
            "cell_type": "code", 
            "metadata": {}, 
            "outputs": [], 
            "source": "# importing libraries\n\nimport torch\nimport numpy as np\nimport pandas as pd\nimport matplotlib.pyplot as plt"
        }, 
        {
            "execution_count": 3, 
            "cell_type": "code", 
            "metadata": {}, 
            "outputs": [
                {
                    "output_type": "stream", 
                    "name": "stdout", 
                    "text": "dtype of object after converting to tensor is  torch.int64\ntype of tensor object after converting it to tensor is  torch.LongTensor\n"
                }
            ], 
            "source": "# convert a list of length 7 to a tesor\n\nint_tensor = torch.tensor([25, 2, 46, 0, 78, 96, 2])\nprint(\"dtype of object after converting to tensor is \", int_tensor.dtype)\nprint(\"type of tensor object after converting it to tensor is \", int_tensor.type())"
        }, 
        {
            "execution_count": 4, 
            "cell_type": "code", 
            "metadata": {}, 
            "outputs": [
                {
                    "output_type": "stream", 
                    "name": "stdout", 
                    "text": "dtype of object after converting to tensor is  torch.float32\ntype of tensor object after converting it to tensor is  torch.FloatTensor\n"
                }
            ], 
            "source": "# converting a list of floats to a tensor\n\nfloat_tensor = torch.tensor([16.1, 45., 48.5, 4.9, 3.14])\nprint(\"dtype of object after converting to tensor is \", float_tensor.dtype)\nprint(\"type of tensor object after converting it to tensor is \", float_tensor.type())"
        }, 
        {
            "execution_count": 5, 
            "cell_type": "code", 
            "metadata": {}, 
            "outputs": [
                {
                    "output_type": "display_data", 
                    "data": {
                        "text/plain": "tensor([25,  2, 46,  0, 78, 96,  2])"
                    }, 
                    "metadata": {}
                }, 
                {
                    "output_type": "display_data", 
                    "data": {
                        "text/plain": "tensor([16.1000, 45.0000, 48.5000,  4.9000,  3.1400])"
                    }, 
                    "metadata": {}
                }
            ], 
            "source": "display(int_tensor)\ndisplay(float_tensor)"
        }, 
        {
            "execution_count": 6, 
            "cell_type": "code", 
            "metadata": {}, 
            "outputs": [
                {
                    "output_type": "display_data", 
                    "data": {
                        "text/plain": "tensor([25.,  2., 46.,  0., 78., 96.,  2.])"
                    }, 
                    "metadata": {}
                }, 
                {
                    "output_type": "display_data", 
                    "data": {
                        "text/plain": "tensor([25.,  2., 46.,  0., 78., 96.,  2.])"
                    }, 
                    "metadata": {}
                }
            ], 
            "source": "# converting an integer list to float tensor\n\ndisplay(torch.FloatTensor([25, 2, 46, 0, 78, 96, 2]))\n\ndisplay(int_tensor.type(torch.FloatTensor))"
        }, 
        {
            "execution_count": 7, 
            "cell_type": "code", 
            "metadata": {}, 
            "outputs": [
                {
                    "output_type": "stream", 
                    "name": "stdout", 
                    "text": "torch.Size([5])\n"
                }
            ], 
            "source": "# size of the tensor\n\nprint(float_tensor.size())"
        }, 
        {
            "execution_count": 8, 
            "cell_type": "code", 
            "metadata": {}, 
            "outputs": [
                {
                    "output_type": "stream", 
                    "name": "stdout", 
                    "text": "1\n"
                }
            ], 
            "source": "# dimension of tensor\n\nprint(float_tensor.ndimension())"
        }, 
        {
            "execution_count": 9, 
            "cell_type": "code", 
            "metadata": {}, 
            "outputs": [
                {
                    "output_type": "stream", 
                    "name": "stdout", 
                    "text": "Original :  tensor([16.1000, 45.0000, 48.5000,  4.9000,  3.1400])\nReshaped tensor :  tensor([[16.1000],\n        [45.0000],\n        [48.5000],\n        [ 4.9000],\n        [ 3.1400]])\nReshaped tensor :  tensor([[16.1000],\n        [45.0000],\n        [48.5000],\n        [ 4.9000],\n        [ 3.1400]])\n"
                }
            ], 
            "source": "# reshaping a tensor\n\nprint(\"Original : \", float_tensor)\nprint(\"Reshaped tensor : \", float_tensor.view(5, 1))\n\n# another way to do the same by using -1 for rows in view()\nprint(\"Reshaped tensor : \", float_tensor.view(-1,1))"
        }, 
        {
            "execution_count": 10, 
            "cell_type": "code", 
            "metadata": {}, 
            "outputs": [
                {
                    "output_type": "stream", 
                    "name": "stdout", 
                    "text": "[ 45.9  226.1   40.6    2.2   97.25]\ntensor([ 45.9000, 226.1000,  40.6000,   2.2000,  97.2500], dtype=torch.float64)\n"
                }
            ], 
            "source": "# converting a numpy array to a tensor\n\nnumpy_array = np.array([45.9, 226.1, 40.6, 2.2, 97.25])\nn_tensor = torch.from_numpy(numpy_array)\nprint(numpy_array)\nprint(n_tensor)"
        }, 
        {
            "execution_count": 11, 
            "cell_type": "code", 
            "metadata": {}, 
            "outputs": [
                {
                    "output_type": "stream", 
                    "name": "stdout", 
                    "text": "tensor([25,  2, 46,  0, 78, 96,  2])\n[25  2 46  0 78 96  2]\n"
                }
            ], 
            "source": "# converting tensor to numpy array\n\nprint(int_tensor)\nprint(int_tensor.numpy())"
        }, 
        {
            "execution_count": 12, 
            "cell_type": "code", 
            "metadata": {}, 
            "outputs": [
                {
                    "output_type": "stream", 
                    "name": "stdout", 
                    "text": "panda_series : \n 0    4\n1    8\n2    9\n3    8\n4    0\ndtype: int64\n\n\ntensor : \n tensor([4, 8, 9, 8, 0])\n"
                }
            ], 
            "source": "# converting a panda series to a tensor\n\npanda_series = pd.Series([4, 8, 9, 8, 0])\nn_tensor = torch.from_numpy(panda_series.values)\n\nprint(\"panda_series : \\n\", panda_series)\nprint(\"\\n\\ntensor : \\n\", n_tensor)"
        }, 
        {
            "execution_count": 13, 
            "cell_type": "code", 
            "metadata": {}, 
            "outputs": [
                {
                    "output_type": "stream", 
                    "name": "stdout", 
                    "text": "tensor([25,  2, 46,  0, 78, 96,  2]) \n\nindex -  0 , value -  tensor(25)\nindex -  1 , value -  tensor(2)\nindex -  2 , value -  tensor(46)\nindex -  3 , value -  tensor(0)\nindex -  4 , value -  tensor(78)\nindex -  5 , value -  tensor(96)\nindex -  6 , value -  tensor(2)\n"
                }
            ], 
            "source": "# indexing in tensors\n\nprint(int_tensor, \"\\n\")\nfor i in range(7):\n    print(\"index - \", i, \", value - \", int_tensor[i])"
        }, 
        {
            "execution_count": 14, 
            "cell_type": "code", 
            "metadata": {}, 
            "outputs": [
                {
                    "output_type": "stream", 
                    "name": "stdout", 
                    "text": "tensor([25,  2, 46,  0, 78, 96,  2])\ntensor([2])\ntensor([46])\ntensor([25,  2])\ntensor([25,  2, 46,  0, 78, 96])\n"
                }
            ], 
            "source": "# slicing tensor (like slicing on a list in python)\n\nprint(int_tensor)\nprint(int_tensor[1:2])\nprint(int_tensor[2:3])\nprint(int_tensor[:2])\nprint(int_tensor[:-1])"
        }, 
        {
            "execution_count": 15, 
            "cell_type": "code", 
            "metadata": {}, 
            "outputs": [
                {
                    "output_type": "stream", 
                    "name": "stdout", 
                    "text": "tensor([25,  2, 46,  0, 78, 96,  2])\n"
                }, 
                {
                    "output_type": "display_data", 
                    "data": {
                        "text/plain": "tensor([46,  0])"
                    }, 
                    "metadata": {}
                }, 
                {
                    "output_type": "display_data", 
                    "data": {
                        "text/plain": "tensor([666, 999])"
                    }, 
                    "metadata": {}
                }
            ], 
            "source": "# assigning value to a tensor slice\n\nprint(int_tensor)\ndisplay(int_tensor[2:4])\n\nint_tensor[2:4] = torch.tensor([666, 999])\n\ndisplay(int_tensor[2:4])"
        }, 
        {
            "execution_count": 16, 
            "cell_type": "code", 
            "metadata": {}, 
            "outputs": [
                {
                    "output_type": "display_data", 
                    "data": {
                        "text/plain": "tensor([ 25,   2, 666, 999,  78,  96,   2])"
                    }, 
                    "metadata": {}
                }, 
                {
                    "output_type": "display_data", 
                    "data": {
                        "text/plain": "tensor([ 25,  78, 666])"
                    }, 
                    "metadata": {}
                }
            ], 
            "source": "# we can also give a list for indexing parameter\n\ndisplay(int_tensor)\n\ndisplay(int_tensor[[0, 4, 2]])"
        }, 
        {
            "source": "## Tensor Functions", 
            "cell_type": "markdown", 
            "metadata": {}
        }, 
        {
            "source": "### Mean and Standard Deviation", 
            "cell_type": "markdown", 
            "metadata": {}
        }, 
        {
            "execution_count": 17, 
            "cell_type": "code", 
            "metadata": {}, 
            "outputs": [
                {
                    "output_type": "stream", 
                    "name": "stdout", 
                    "text": "tensor([ 1., -1.,  1., -1.])\n"
                }
            ], 
            "source": "# sample tensor\n\nmath_tensor = torch.tensor([1.0, -1.0, 1, -1])\nprint(math_tensor)"
        }, 
        {
            "source": "#### The mean method", 
            "cell_type": "markdown", 
            "metadata": {}
        }, 
        {
            "execution_count": 18, 
            "cell_type": "code", 
            "metadata": {}, 
            "outputs": [
                {
                    "output_type": "stream", 
                    "name": "stdout", 
                    "text": "tensor(0.)\n"
                }
            ], 
            "source": "print(math_tensor.mean())"
        }, 
        {
            "source": "#### The standard deviation", 
            "cell_type": "markdown", 
            "metadata": {}
        }, 
        {
            "execution_count": 19, 
            "cell_type": "code", 
            "metadata": {}, 
            "outputs": [
                {
                    "output_type": "stream", 
                    "name": "stdout", 
                    "text": "tensor(1.1547)\n"
                }
            ], 
            "source": "print(math_tensor.std())"
        }, 
        {
            "source": "#### Max and Min", 
            "cell_type": "markdown", 
            "metadata": {}
        }, 
        {
            "execution_count": 20, 
            "cell_type": "code", 
            "metadata": {}, 
            "outputs": [
                {
                    "output_type": "stream", 
                    "name": "stdout", 
                    "text": "maximum number in tensor -  tensor(1.)\n\nminimum number in tensor -  tensor(-1.)\n"
                }
            ], 
            "source": "print(\"maximum number in tensor - \", math_tensor.max())\n\nprint(\"\\nminimum number in tensor - \", math_tensor.min())"
        }, 
        {
            "source": "#### Sine - <code>torch.sin()</code>", 
            "cell_type": "markdown", 
            "metadata": {}
        }, 
        {
            "execution_count": 21, 
            "cell_type": "code", 
            "metadata": {}, 
            "outputs": [
                {
                    "output_type": "stream", 
                    "name": "stdout", 
                    "text": "tensor([ 0.0000e+00,  1.0000e+00, -8.7423e-08])\n"
                }
            ], 
            "source": "# method for calculating sine result of each element in the tensor\ntensor = torch.tensor([0, np.pi/2, np.pi])\n\nprint(torch.sin(tensor))"
        }, 
        {
            "source": "#### <code>torch.linspace()</code>", 
            "cell_type": "markdown", 
            "metadata": {}
        }, 
        {
            "execution_count": 22, 
            "cell_type": "code", 
            "metadata": {}, 
            "outputs": [
                {
                    "output_type": "stream", 
                    "name": "stdout", 
                    "text": "tensor([-1.,  0.,  1.,  2.,  3.,  4.,  5.])\ntensor([-4.0000, -1.7500,  0.5000,  2.7500,  5.0000])\n"
                }
            ], 
            "source": "# this function returns evenly spaced numbers over a specified interval\n\n# using steps 7\nprint(torch.linspace(-1, 5, steps=7))\n\nprint(torch.linspace(-4, 5, steps=5))"
        }, 
        {
            "execution_count": 23, 
            "cell_type": "code", 
            "metadata": {}, 
            "outputs": [
                {
                    "execution_count": 23, 
                    "metadata": {}, 
                    "data": {
                        "text/plain": "[<matplotlib.lines.Line2D at 0x7fe169293a20>]"
                    }, 
                    "output_type": "execute_result"
                }, 
                {
                    "output_type": "display_data", 
                    "data": {
                        "image/png": "[encoded data removed]", 
                        "text/plain": "<Figure size 432x288 with 1 Axes>"
                    }, 
                    "metadata": {
                        "needs_background": "light"
                    }
                }
            ], 
            "source": "# sine plot using linspace() and sin()\n\na = torch.linspace(0, 2*np.pi, 200)\nsine = torch.sin(a)\n\nplt.plot(a.numpy(), sine.numpy())"
        }, 
        {
            "source": "## Tensor Operations", 
            "cell_type": "markdown", 
            "metadata": {}
        }, 
        {
            "source": "#### Tensor addition and subtraction", 
            "cell_type": "markdown", 
            "metadata": {}
        }, 
        {
            "execution_count": 24, 
            "cell_type": "code", 
            "metadata": {}, 
            "outputs": [
                {
                    "output_type": "stream", 
                    "name": "stdout", 
                    "text": "tensor([ 1,  3,  5, 11])\n"
                }
            ], 
            "source": "# adding two tensors with same number of dimensions and same number of elements\n\na = torch.tensor([0, 1, 2, 5])\nb = torch.tensor([1, 2, 3, 6])\nc = a + b\n\nprint(c)"
        }, 
        {
            "execution_count": 25, 
            "cell_type": "code", 
            "metadata": {}, 
            "outputs": [
                {
                    "output_type": "stream", 
                    "name": "stdout", 
                    "text": "tensor([-1, -1, -1, -1])\n"
                }
            ], 
            "source": "# similarly subtracting two tensors\n\nc = a - b\n\nprint(c)"
        }, 
        {
            "source": "##### Adding a scaler to a tensor", 
            "cell_type": "markdown", 
            "metadata": {}
        }, 
        {
            "execution_count": 26, 
            "cell_type": "code", 
            "metadata": {}, 
            "outputs": [
                {
                    "output_type": "stream", 
                    "name": "stdout", 
                    "text": "tensor([ 5,  6,  7, 10])\n"
                }
            ], 
            "source": "c = a + 5\nprint(c)"
        }, 
        {
            "source": "#### Multiplication of a tensor to a scaler ", 
            "cell_type": "markdown", 
            "metadata": {}
        }, 
        {
            "execution_count": 27, 
            "cell_type": "code", 
            "metadata": {}, 
            "outputs": [
                {
                    "output_type": "stream", 
                    "name": "stdout", 
                    "text": "tensor([ 0, 10, 20, 50])\n"
                }
            ], 
            "source": "c = a * 10\nprint(c)"
        }, 
        {
            "source": "#### Multiplication of a tensor to another tensor", 
            "cell_type": "markdown", 
            "metadata": {}
        }, 
        {
            "execution_count": 28, 
            "cell_type": "code", 
            "metadata": {}, 
            "outputs": [
                {
                    "output_type": "stream", 
                    "name": "stdout", 
                    "text": "a is  tensor([0, 1, 2, 5])\nb is  tensor([1, 2, 3, 6])\na * b is  tensor([ 0,  2,  6, 30])\n"
                }
            ], 
            "source": "print(\"a is \", a)\nprint(\"b is \", b)\nc = a * b\nprint(\"a * b is \", c)"
        }, 
        {
            "source": "#### Dot product of two tensors", 
            "cell_type": "markdown", 
            "metadata": {}
        }, 
        {
            "execution_count": 29, 
            "cell_type": "code", 
            "metadata": {}, 
            "outputs": [
                {
                    "output_type": "stream", 
                    "name": "stdout", 
                    "text": "a is  tensor([0, 1, 2, 5])\nb is  tensor([1, 2, 3, 6])\nDot product of a and b is -  tensor(38)\n"
                }
            ], 
            "source": "print(\"a is \", a)\nprint(\"b is \", b)\nc = torch.dot(a, b)\n\nprint(\"Dot product of a and b is - \", c)"
        }
    ], 
    "metadata": {
        "kernelspec": {
            "display_name": "Python 3.6", 
            "name": "python3", 
            "language": "python"
        }, 
        "language_info": {
            "mimetype": "text/x-python", 
            "nbconvert_exporter": "python", 
            "version": "3.6.8", 
            "name": "python", 
            "file_extension": ".py", 
            "pygments_lexer": "ipython3", 
            "codemirror_mode": {
                "version": 3, 
                "name": "ipython"
            }
        }
    }, 
    "nbformat": 4
}